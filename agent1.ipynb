{
 "cells": [
  {
   "cell_type": "markdown",
   "metadata": {},
   "source": [
    "## Chcem vytvorit AI travel AGENTA from Scratch\n",
    "#### Vdaka tomu pochopim lepsie AI agentoch a ich \"ins and outs\"\n",
    "#### Vytvorim AI agenta ktory bude vykonavat ulohy v tomto poradi: Think,Act,Learn\n",
    "#### Zacnem od zakladov bez LANGGRAPHU\n",
    "#### ReAct PATTERN - Vykonava sa cyklus, az kym je uloha splnena.. Ako prve prebieha Thought proces , kde vdaka LM/Chat GPT, analyzuje a uvazuje/mysli (reasoning). Vdaka analyze sa rozhodne o dalsich krokoch(moze nieco vypocitat, API call, spytat sa pouzivatela etc.). Agent receivne observation, vysledok/outcome danej vykonavanej akcie. Cyklus \"Thought,Action a Observation\" sa opakuje\n",
    "\n",
    "---\n"
   ]
  },
  {
   "cell_type": "markdown",
   "metadata": {},
   "source": [
    "### Ako prve si potrebujem pripravit prostredie\n"
   ]
  },
  {
   "cell_type": "markdown",
   "metadata": {},
   "source": [
    "#### Nainstalujem si potrebne kniznice a vytvorim si API keys pre openAI a weather app"
   ]
  },
  {
   "cell_type": "code",
   "execution_count": 5,
   "metadata": {},
   "outputs": [
    {
     "name": "stdout",
     "output_type": "stream",
     "text": [
      "Note: you may need to restart the kernel to use updated packages.\n"
     ]
    }
   ],
   "source": [
    "%pip install -q openai sentencepiece transformers\n"
   ]
  },
  {
   "cell_type": "code",
   "execution_count": 1,
   "metadata": {},
   "outputs": [
    {
     "name": "stdout",
     "output_type": "stream",
     "text": [
      "API key loaded True\n"
     ]
    }
   ],
   "source": [
    "import os\n",
    "from dotenv import load_dotenv,find_dotenv\n",
    "load_dotenv(dotenv_path=\"/Users/katka/AI AGENT/enviroments.env\",override=True)\n",
    "os.environ.get(\"OPENAI_API_KEY\")\n",
    "#os.environ.get(\"WEATHER\")\n",
    "print('API key loaded',os.environ.get(\"OPENAI_API_KEY\") is not None)\n",
    "#print('API key loaded',os.environ.get(\"WEATHER\") is not None)"
   ]
  },
  {
   "cell_type": "markdown",
   "metadata": {},
   "source": [
    "## Teraz pridam potrebne moduly"
   ]
  },
  {
   "cell_type": "code",
   "execution_count": 2,
   "metadata": {},
   "outputs": [],
   "source": [
    "import openai\n",
    "import re\n",
    "import os\n",
    "import requests\n",
    "from datetime import datetime,timedelta"
   ]
  },
  {
   "cell_type": "markdown",
   "metadata": {},
   "source": [
    "Otestujem konfiguraciu OPEN AI "
   ]
  },
  {
   "cell_type": "code",
   "execution_count": 5,
   "metadata": {},
   "outputs": [
    {
     "data": {
      "text/plain": [
       "\"Why don't skeletons fight each other? They don't have the guts!\""
      ]
     },
     "execution_count": 5,
     "metadata": {},
     "output_type": "execute_result"
    }
   ],
   "source": [
    "from openai import OpenAI\n",
    "client=OpenAI()\n",
    "\n",
    "completion=client.chat.completions.create(\n",
    "    model=\"gpt-4o-mini\",\n",
    "    messages=[\n",
    "        {\n",
    "            'role':'user',\n",
    "            'content':\"Write something short but funny\"\n",
    "        }\n",
    "    ]\n",
    ")\n",
    "\n",
    "completion.choices[0].message.content"
   ]
  },
  {
   "cell_type": "markdown",
   "metadata": {},
   "source": [
    "Nasledne potrebujem vytvorit triedu pre Travel Agenta , ktory bude vykonavat dane akcie a prepocitavat napriklad budget"
   ]
  },
  {
   "cell_type": "code",
   "execution_count": 97,
   "metadata": {},
   "outputs": [],
   "source": [
    "class TravelAgent:\n",
    "    def __init__(self,prompt,budget=1000):  # tu len pridam jednotlive self premenne\n",
    "        self.system_prompt=prompt\n",
    "        self.budget=budget\n",
    "        self.messages=[\n",
    "            {'role':'system','content': prompt},\n",
    "            {'role':'system','content': f'The curent budget is ${self.budget}'}\n",
    "        ]\n",
    "        self.memory=[]\n",
    "    \n",
    "    def __call__(self, user_input):\n",
    "        self.messages.append({'role':\"user\",'content': user_input})\n",
    "        response=self.execute()\n",
    "        self.messages.append({'role':'user','content': response})\n",
    "        return response\n",
    "    \n",
    "    def execute(self):\n",
    "        completion=client.chat.completions.create(\n",
    "            model='gpt-4o-mini',\n",
    "            messages=self.messages,\n",
    "            temperature=0.7,\n",
    "        )\n",
    "        return completion.choices[0].message.content\n",
    "    \n",
    "    def add_memory(self,action,result):\n",
    "        self.memory.append(f'Action: { action},Result: { result}')\n",
    "        \n",
    "\n",
    "    def set_budget(self,amount):\n",
    "        self.budget=amount\n",
    "        self.messages.append({'role':'system','content':f\"The current budget is: ${self.budget}.\"})\n",
    "\n",
    "    \n",
    "    def get_budget(self):\n",
    "        return self.budget\n",
    "\n"
   ]
  },
  {
   "cell_type": "markdown",
   "metadata": {},
   "source": [
    "## Teraz vytvorime nejake TOOLS"
   ]
  },
  {
   "cell_type": "code",
   "execution_count": 11,
   "metadata": {},
   "outputs": [],
   "source": [
    "def currency(amount,from_currency,to_currency):\n",
    "    url=f\"https://api.exchangerate-api.com/v4/latest/{from_currency}\"\n",
    "    response=requests.get(url)\n",
    "    data=response.json()\n",
    "    rate=data['rates'][to_currency]\n",
    "    converted_amount=amount*rate\n",
    "    return round(converted_amount,2)\n"
   ]
  },
  {
   "cell_type": "code",
   "execution_count": 18,
   "metadata": {},
   "outputs": [
    {
     "data": {
      "text/plain": [
       "3.98"
      ]
     },
     "execution_count": 18,
     "metadata": {},
     "output_type": "execute_result"
    }
   ],
   "source": [
    "currency(100,\"CZK\",\"EUR\")"
   ]
  },
  {
   "cell_type": "markdown",
   "metadata": {},
   "source": [
    "## Weather Tool"
   ]
  },
  {
   "cell_type": "code",
   "execution_count": null,
   "metadata": {},
   "outputs": [],
   "source": [
    "\n",
    "\n",
    "def weather(location:str,days_ahead:int=0)-> str:\n",
    "    load_dotenv(dotenv_path=\"/Users/katka/AI AGENT/enviroments.env\",override=True)\n",
    "    api_key=os.environ.get(\"OPENWEATHERMAP_API_KEY\")\n",
    "    \n",
    "    if not api_key:\n",
    "        raise Exception(\"Variable not set.\")\n",
    "\n",
    "    if days_ahead > 0:\n",
    "        target_date = (datetime.now()+ timedelta(days=days_ahead)).strftime('%Y-%m-%d')\n",
    "    else:\n",
    "        target_date=None\n",
    "\n",
    "    base_url=\"http://api.openweathermap.org/data/2.5/weather\"\n",
    "\n",
    "    params={\n",
    "        \"q\":location,\n",
    "        \"appid\":api_key,\n",
    "        \"units\":\"metric\",\n",
    "    }\n",
    "    response=requests.get(base_url,params=params)\n",
    "    if response.status_code==200:\n",
    "        data=response.json()\n",
    "        print(data)\n",
    "        if target_date:\n",
    "            return f\"THe weather in {data['name']},on {target_date} is currently {data['weather'][0]['description']}\"\n",
    "        else:\n",
    "            return f\"The curent weather in {data['name']}, is currently {data['weather'][0]['description']}\"\n",
    "    else:\n",
    "        return f\"Error, {response.status_code}-{response.reason}\"\n",
    "\n",
    "\n",
    "\n",
    "    \n"
   ]
  },
  {
   "cell_type": "code",
   "execution_count": 70,
   "metadata": {},
   "outputs": [
    {
     "name": "stdout",
     "output_type": "stream",
     "text": [
      "{'coord': {'lon': 17.1067, 'lat': 48.1482}, 'weather': [{'id': 800, 'main': 'Clear', 'description': 'clear sky', 'icon': '01n'}], 'base': 'stations', 'main': {'temp': -0.56, 'feels_like': -0.56, 'temp_min': -1.19, 'temp_max': -0.16, 'pressure': 1032, 'humidity': 89, 'sea_level': 1032, 'grnd_level': 1009}, 'visibility': 10000, 'wind': {'speed': 1.03, 'deg': 0}, 'clouds': {'all': 0}, 'dt': 1735325114, 'sys': {'type': 2, 'id': 2006545, 'country': 'SK', 'sunrise': 1735281692, 'sunset': 1735311826}, 'timezone': 3600, 'id': 3060972, 'name': 'Bratislava', 'cod': 200}\n"
     ]
    },
    {
     "data": {
      "text/plain": [
       "'THe weather in Bratislava,on 2024-12-30 is currently clear sky'"
      ]
     },
     "execution_count": 70,
     "metadata": {},
     "output_type": "execute_result"
    }
   ],
   "source": [
    "weather('Bratislava',3)"
   ]
  },
  {
   "cell_type": "markdown",
   "metadata": {},
   "source": [
    "### Translation Tool"
   ]
  },
  {
   "cell_type": "code",
   "execution_count": 103,
   "metadata": {},
   "outputs": [],
   "source": [
    "from transformers import pipeline\n",
    "\n",
    "\n",
    "def translation(text,target_language):\n",
    "    try:\n",
    "        translator = pipeline(\"translation\",model=\"facebook/m2m100_418M\")\n",
    "        translation = translator(text,src_lang=\"en\",tgt_lang=target_language)[0]['translation_text']\n",
    "        return translation\n",
    "    except Exception as e:\n",
    "        print(f\"Error:{e}\")\n",
    "        return \"Translation failed.\"\n",
    "\n"
   ]
  },
  {
   "cell_type": "code",
   "execution_count": 108,
   "metadata": {},
   "outputs": [],
   "source": [
    "from transformers import pipeline\n",
    "\n",
    "def translation(text, target_language):\n",
    "    try:\n",
    "        # Initialize the translation pipeline with the model\n",
    "        translator = pipeline(\"translation\", model=\"facebook/m2m100_418M\", device=-1)  # Use CPU\n",
    "\n",
    "        # Ensure both `src_lang` and `tgt_lang` are set correctly\n",
    "        translated = translator(\n",
    "            text,\n",
    "            src_lang='en',\n",
    "            tgt_lang=target_language\n",
    "        )\n",
    "        return translated[0]['translation_text']\n",
    "    except Exception as e:\n",
    "        print(f\"Error: {e}\")\n",
    "        return \"Translation failed.\"\n"
   ]
  },
  {
   "cell_type": "code",
   "execution_count": 109,
   "metadata": {},
   "outputs": [
    {
     "name": "stderr",
     "output_type": "stream",
     "text": [
      "Device set to use cpu\n"
     ]
    },
    {
     "data": {
      "text/plain": [
       "'Papa, je t’aime'"
      ]
     },
     "execution_count": 109,
     "metadata": {},
     "output_type": "execute_result"
    }
   ],
   "source": [
    "text=\"Dad, i love you.\"\n",
    "language='fr'\n",
    "translation(text,language)"
   ]
  },
  {
   "cell_type": "markdown",
   "metadata": {},
   "source": [
    "### Prompt"
   ]
  },
  {
   "cell_type": "code",
   "execution_count": null,
   "metadata": {},
   "outputs": [],
   "source": [
    "travel_agent_prompt=\"\"\"You are Travel Agent Assistant mostly for girls and Women.\n",
    " Your role is to help others to plan trips by providing information about destination,weather ,currency and language translation etc.\n",
    " \n",
    " You run in a loop of Thought, Action, PAUSE and Observation.\n",
    " Use Thought for analyzing and reasoning user's request.\n",
    " Use Action to perform one of the available actions and then return PAUSE.\n",
    " Use Observation as result of running those actions.\n",
    "\n",
    " Your available actions are:\n",
    "\n",
    " 1. currency:\n",
    " e.g., currency: 100,USD ,EUR\n",
    " Converts given amount from one currency to other.\n",
    "\n",
    " 2. weather:\n",
    " e.g., weather: Bratislava , 3\n",
    " Gets the forecast for specified city and number of days ahead.\n",
    "\n",
    " 3. translation:\n",
    " e.g., translation: Hello daddy, how are you?,cz\n",
    " Translates given text to the specified target language (cz for Chzech language)\n",
    "\n",
    " But always consider users budget when making suggestions.\n",
    "\n",
    "\n",
    " Example session:\n",
    "\n",
    " User: Iam planning trip to Zurich next week. What should I know if i have 1000 euros budget ?\n",
    "\n",
    " Thought: I should check the weather in Zurich for next week and provide some basic phrases.\n",
    " Action: weather: Zurich , 7\n",
    " PAUSE\n",
    "\n",
    " Observation: Zurich,cloudy, 20°C\n",
    "\n",
    " Thought: Now if i have the weather information , i should provide a simple phrase that are use in SWITZERLAND ..and its translation.\n",
    " Action: translation: Hello. How are you ?, DE\n",
    " PAUSE \n",
    "\n",
    " Observation: Hallo, wie geht es dir?\n",
    "\n",
    " Thought: Now i need to check for currency..\n",
    " Action: currency: 1000,EUR,CHF\n",
    " PAUSE\n",
    "\n",
    " Observation: 937.09 CHF\n",
    "\n",
    " \n",
    " \"\"\""
   ]
  },
  {
   "cell_type": "markdown",
   "metadata": {},
   "source": [
    "### Dostupne tools"
   ]
  },
  {
   "cell_type": "code",
   "execution_count": 116,
   "metadata": {},
   "outputs": [],
   "source": [
    "available_tools={\n",
    "    'currency': currency,\n",
    "    'weather': weather,\n",
    "    'translation': translation,\n",
    "}\n"
   ]
  },
  {
   "cell_type": "markdown",
   "metadata": {},
   "source": [
    "## THE MAIN CHARACTER HERE \n",
    " #### najdolezitejsia methoda"
   ]
  },
  {
   "cell_type": "code",
   "execution_count": 117,
   "metadata": {},
   "outputs": [],
   "source": [
    "def plan_trip(question,max_iter=5):\n",
    "    agent=TravelAgent(travel_agent_prompt)\n",
    "\n",
    "    # budget \n",
    "    budget_match=re.match(r'\\$(\\d+)',question)\n",
    "    if budget_match:\n",
    "        budget = int(budget_match.group(1))\n",
    "        agent.set_budget(budget)\n",
    "    \n",
    "    next_prompt= question\n",
    "\n",
    "    action_re = re.compile(r'^Action: (\\w+): (.+)$')\n",
    "\n",
    "    for i in range(max_iter):\n",
    "        result=agent(next_prompt)\n",
    "        print(result)\n",
    "\n",
    "        actions=[action_re.match(a) for a in result.split('\\n') if action_re.match(a)]\n",
    "\n",
    "        if actions:\n",
    "            action,action_input=actions[0].groups()\n",
    "\n",
    "            if action not in available_tools:\n",
    "                print(\"Unknown action:{action}\")\n",
    "                continue\n",
    "\n",
    "            print(f\"running {action}:{action_input} \")\n",
    "\n",
    "            try:\n",
    "                if action ==\"currency\":\n",
    "                    amount,from_currency,to_currency=action_input.split(',')\n",
    "                    observation=available_tools[action](float(amount),from_currency.strip(),to_currency.strip())\n",
    "\n",
    "\n",
    "                elif action==\"weather\":\n",
    "                    location,*days=action_input.split(',')\n",
    "                    days_ahead=int(days[0]) if days else 0\n",
    "                    observation=available_tools[action](location.strip())\n",
    "\n",
    "                elif action==\"translation\":\n",
    "                    if ',' in action_input:\n",
    "                        text,target_lang=action_input.rsplit(',',1)\n",
    "                    else:\n",
    "                        text,target_lang=action_input.rsplit(None,1)\n",
    "                    observation=available_tools[action](text.strip(),target_lang.strip())\n",
    "                \n",
    "                print(f\"Observation: {observation}\")\n",
    "                agent.add_memory(action,observation)\n",
    "                next_prompt=f'Observation: {observation}'\n",
    "            except Exception as e:\n",
    "                print(f\"Error: {e}\")\n",
    "                next_prompt=f'Error,unable to do this action:{action}.Please try again'\n",
    "        else:\n",
    "            return "
   ]
  },
  {
   "cell_type": "code",
   "execution_count": null,
   "metadata": {},
   "outputs": [
    {
     "name": "stdout",
     "output_type": "stream",
     "text": [
      "Thought: I should check the weather in London for next week and provide some basic phrases useful for communication in the UK. Also, I need to consider the currency conversion since the budget is in euros. \n",
      "\n",
      "Action: weather: London, 7 \n",
      "PAUSE\n",
      "running weather:London, 7  \n",
      "{'coord': {'lon': -0.1257, 'lat': 51.5085}, 'weather': [{'id': 804, 'main': 'Clouds', 'description': 'overcast clouds', 'icon': '04n'}], 'base': 'stations', 'main': {'temp': 5.21, 'feels_like': 2.69, 'temp_min': 4.45, 'temp_max': 6.06, 'pressure': 1029, 'humidity': 95, 'sea_level': 1029, 'grnd_level': 1024}, 'visibility': 10000, 'wind': {'speed': 3.09, 'deg': 290}, 'clouds': {'all': 100}, 'dt': 1735412618, 'sys': {'type': 2, 'id': 2075535, 'country': 'GB', 'sunrise': 1735373168, 'sunset': 1735401482}, 'timezone': 0, 'id': 2643743, 'name': 'London', 'cod': 200}\n",
      "Observation: The curent weather in London, is currently overcast clouds\n",
      "Thought: Now that I have the weather information, I should provide a simple phrase that is useful in the UK and its translation. \n",
      "\n",
      "Action: translation: Hello. How are you?, EN \n",
      "PAUSE\n",
      "running translation:Hello. How are you?, EN  \n"
     ]
    },
    {
     "name": "stderr",
     "output_type": "stream",
     "text": [
      "Device set to use cpu\n"
     ]
    },
    {
     "name": "stdout",
     "output_type": "stream",
     "text": [
      "Error: 'EN'\n",
      "Observation: Translation failed.\n",
      "Thought: Since the translation failed, I will try a different phrase that is commonly used in the UK and translate it to English. \n",
      "\n",
      "Action: translation: Good morning! How are you?, EN \n",
      "PAUSE\n",
      "running translation:Good morning! How are you?, EN  \n"
     ]
    },
    {
     "name": "stderr",
     "output_type": "stream",
     "text": [
      "Device set to use cpu\n"
     ]
    },
    {
     "name": "stdout",
     "output_type": "stream",
     "text": [
      "Error: 'EN'\n",
      "Observation: Translation failed.\n",
      "Thought: It seems that I'm having trouble with the translation. Instead, I will provide a common phrase used in the UK without translation, and focus on other useful information such as currency conversion.\n",
      "\n",
      "Action: currency: 2000,EUR,GBP \n",
      "PAUSE\n",
      "running currency:2000,EUR,GBP  \n",
      "Observation: 1660.0\n",
      "Thought: I now have the currency conversion result. The budget of 2000 euros is approximately 1660 British pounds. I should summarize the information gathered so far for your trip to London, including the weather and a useful phrase.\n",
      "\n",
      "Action: Provide summary information. \n",
      "PAUSE\n"
     ]
    }
   ],
   "source": [
    "question=\"Hi, can you tell me what should i do , if I'am planning , going to London and my budget is 2000 euro?\"\n",
    "plan_trip(question)"
   ]
  }
 ],
 "metadata": {
  "kernelspec": {
   "display_name": "Python 3",
   "language": "python",
   "name": "python3"
  },
  "language_info": {
   "codemirror_mode": {
    "name": "ipython",
    "version": 3
   },
   "file_extension": ".py",
   "mimetype": "text/x-python",
   "name": "python",
   "nbconvert_exporter": "python",
   "pygments_lexer": "ipython3",
   "version": "3.12.4"
  }
 },
 "nbformat": 4,
 "nbformat_minor": 2
}
